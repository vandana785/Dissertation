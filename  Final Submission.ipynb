{
 "cells": [
  {
   "cell_type": "code",
   "execution_count": 1,
   "id": "13792897",
   "metadata": {},
   "outputs": [],
   "source": [
    "import pandas as pd\n",
    "import numpy as np\n",
    "from sklearn.feature_extraction.text import TfidfVectorizer\n",
    "from sklearn.model_selection import train_test_split\n",
    "from sklearn.linear_model import LogisticRegression\n",
    "import sklearn.model_selection as model_selection\n",
    "from sklearn.svm import SVC\n",
    "from sklearn.naive_bayes import GaussianNB\n",
    "from sklearn.metrics import roc_curve, roc_auc_score, precision_score, recall_score\n",
    "\n",
    "from sklearn.metrics import accuracy_score\n",
    "from sklearn.preprocessing import StandardScaler\n",
    "import re\n",
    "import matplotlib.pyplot as plt\n",
    "import statsmodels.api as sm\n",
    "from scipy.stats import f_oneway\n",
    "from scipy.stats import ttest_ind"
   ]
  },
  {
   "cell_type": "code",
   "execution_count": 2,
   "id": "089f9800",
   "metadata": {},
   "outputs": [],
   "source": [
    "# Filtering out the warnings\n",
    "\n",
    "import warnings\n",
    "\n",
    "warnings.filterwarnings('ignore')"
   ]
  },
  {
   "cell_type": "code",
   "execution_count": 3,
   "id": "8c3aa26e",
   "metadata": {},
   "outputs": [
    {
     "data": {
      "text/html": [
       "<div>\n",
       "<style scoped>\n",
       "    .dataframe tbody tr th:only-of-type {\n",
       "        vertical-align: middle;\n",
       "    }\n",
       "\n",
       "    .dataframe tbody tr th {\n",
       "        vertical-align: top;\n",
       "    }\n",
       "\n",
       "    .dataframe thead th {\n",
       "        text-align: right;\n",
       "    }\n",
       "</style>\n",
       "<table border=\"1\" class=\"dataframe\">\n",
       "  <thead>\n",
       "    <tr style=\"text-align: right;\">\n",
       "      <th></th>\n",
       "      <th>Movies_name</th>\n",
       "      <th>Movies_url</th>\n",
       "      <th>Movies_Time (in minutes)</th>\n",
       "      <th>Movies_Content_Type</th>\n",
       "      <th>Movies_Director</th>\n",
       "      <th>Movies_Ratings</th>\n",
       "      <th>Movies_Votes</th>\n",
       "      <th>Movies_User_Reviews</th>\n",
       "      <th>Movies_Critic_reviews</th>\n",
       "      <th>Movies_Writers</th>\n",
       "      <th>Movies_Release_Date</th>\n",
       "      <th>Movies_Origin_Country</th>\n",
       "      <th>Movies_ProductionCompany</th>\n",
       "      <th>Movies_Budget</th>\n",
       "      <th>Movies_Gross</th>\n",
       "    </tr>\n",
       "  </thead>\n",
       "  <tbody>\n",
       "    <tr>\n",
       "      <th>0</th>\n",
       "      <td>Eternals</td>\n",
       "      <td>https://www.imdb.com/title/tt9032400/?ref_=adv...</td>\n",
       "      <td>156 min</td>\n",
       "      <td>Action, Adventure, Fantasy</td>\n",
       "      <td>ChloÃ© Zhao</td>\n",
       "      <td>6.5</td>\n",
       "      <td>2,19,680</td>\n",
       "      <td>2.9KUser reviews</td>\n",
       "      <td>312Critic reviews</td>\n",
       "      <td>Ryan Firpo</td>\n",
       "      <td>November 5, 2021 (United States)</td>\n",
       "      <td>United States</td>\n",
       "      <td>Marvel Studios</td>\n",
       "      <td>$200,000,000 (estimated)</td>\n",
       "      <td>$164,866,810</td>\n",
       "    </tr>\n",
       "    <tr>\n",
       "      <th>1</th>\n",
       "      <td>Encanto</td>\n",
       "      <td>https://www.imdb.com/title/tt2953050/?ref_=adv...</td>\n",
       "      <td>102 min</td>\n",
       "      <td>Animation, Adventure, Comedy</td>\n",
       "      <td>Jared Bush</td>\n",
       "      <td>7.3</td>\n",
       "      <td>1,11,263</td>\n",
       "      <td>812User reviews</td>\n",
       "      <td>190Critic reviews</td>\n",
       "      <td>Byron Howard</td>\n",
       "      <td>November 24, 2021 (United States)</td>\n",
       "      <td>NaN</td>\n",
       "      <td>NaN</td>\n",
       "      <td>$50,000,000 (estimated)</td>\n",
       "      <td>$93,444,336</td>\n",
       "    </tr>\n",
       "    <tr>\n",
       "      <th>2</th>\n",
       "      <td>Spider-Man: No Way Home</td>\n",
       "      <td>https://www.imdb.com/title/tt10872600/?ref_=ad...</td>\n",
       "      <td>148 min</td>\n",
       "      <td>Action, Adventure, Fantasy</td>\n",
       "      <td>Jon Watts</td>\n",
       "      <td>8.7</td>\n",
       "      <td>4,17,069</td>\n",
       "      <td>4.8KUser reviews</td>\n",
       "      <td>334Critic reviews</td>\n",
       "      <td>Stan Lee</td>\n",
       "      <td>December 17, 2021 (United States)</td>\n",
       "      <td>NaN</td>\n",
       "      <td>Marvel Studios</td>\n",
       "      <td>$200,000,000 (estimated)</td>\n",
       "      <td>$721,865,255</td>\n",
       "    </tr>\n",
       "    <tr>\n",
       "      <th>3</th>\n",
       "      <td>Don't Look Up</td>\n",
       "      <td>https://www.imdb.com/title/tt11286314/?ref_=ad...</td>\n",
       "      <td>138 min</td>\n",
       "      <td>Comedy, Drama, Sci-Fi</td>\n",
       "      <td>Adam McKay</td>\n",
       "      <td>7.3</td>\n",
       "      <td>3,84,415</td>\n",
       "      <td>4KUser reviews</td>\n",
       "      <td>254Critic reviews</td>\n",
       "      <td>NaN</td>\n",
       "      <td>December 24, 2021 (United States)</td>\n",
       "      <td>NaN</td>\n",
       "      <td>Bluegrass Films</td>\n",
       "      <td>$784,681</td>\n",
       "      <td>NaN</td>\n",
       "    </tr>\n",
       "    <tr>\n",
       "      <th>4</th>\n",
       "      <td>Sing 2</td>\n",
       "      <td>https://www.imdb.com/title/tt6467266/?ref_=adv...</td>\n",
       "      <td>110 min</td>\n",
       "      <td>Animation, Adventure, Comedy</td>\n",
       "      <td>Garth Jennings</td>\n",
       "      <td>7.6</td>\n",
       "      <td>22,928</td>\n",
       "      <td>242User reviews</td>\n",
       "      <td>90Critic reviews</td>\n",
       "      <td>NaN</td>\n",
       "      <td>December 22, 2021 (United States)</td>\n",
       "      <td>Color</td>\n",
       "      <td>Universal Pictures</td>\n",
       "      <td>$85,000,000 (estimated)</td>\n",
       "      <td>$128,733,195</td>\n",
       "    </tr>\n",
       "  </tbody>\n",
       "</table>\n",
       "</div>"
      ],
      "text/plain": [
       "               Movies_name                                         Movies_url  \\\n",
       "0                 Eternals  https://www.imdb.com/title/tt9032400/?ref_=adv...   \n",
       "1                  Encanto  https://www.imdb.com/title/tt2953050/?ref_=adv...   \n",
       "2  Spider-Man: No Way Home  https://www.imdb.com/title/tt10872600/?ref_=ad...   \n",
       "3            Don't Look Up  https://www.imdb.com/title/tt11286314/?ref_=ad...   \n",
       "4                   Sing 2  https://www.imdb.com/title/tt6467266/?ref_=adv...   \n",
       "\n",
       "  Movies_Time (in minutes)           Movies_Content_Type Movies_Director  \\\n",
       "0                  156 min    Action, Adventure, Fantasy     ChloÃ© Zhao   \n",
       "1                  102 min  Animation, Adventure, Comedy      Jared Bush   \n",
       "2                  148 min    Action, Adventure, Fantasy       Jon Watts   \n",
       "3                  138 min         Comedy, Drama, Sci-Fi      Adam McKay   \n",
       "4                  110 min  Animation, Adventure, Comedy  Garth Jennings   \n",
       "\n",
       "   Movies_Ratings Movies_Votes Movies_User_Reviews Movies_Critic_reviews  \\\n",
       "0             6.5     2,19,680    2.9KUser reviews     312Critic reviews   \n",
       "1             7.3     1,11,263     812User reviews     190Critic reviews   \n",
       "2             8.7     4,17,069    4.8KUser reviews     334Critic reviews   \n",
       "3             7.3     3,84,415      4KUser reviews     254Critic reviews   \n",
       "4             7.6       22,928     242User reviews      90Critic reviews   \n",
       "\n",
       "  Movies_Writers                Movies_Release_Date Movies_Origin_Country  \\\n",
       "0     Ryan Firpo   November 5, 2021 (United States)         United States   \n",
       "1   Byron Howard  November 24, 2021 (United States)                   NaN   \n",
       "2       Stan Lee  December 17, 2021 (United States)                   NaN   \n",
       "3            NaN  December 24, 2021 (United States)                   NaN   \n",
       "4            NaN  December 22, 2021 (United States)                 Color   \n",
       "\n",
       "  Movies_ProductionCompany             Movies_Budget  Movies_Gross  \n",
       "0           Marvel Studios  $200,000,000 (estimated)  $164,866,810  \n",
       "1                      NaN   $50,000,000 (estimated)   $93,444,336  \n",
       "2           Marvel Studios  $200,000,000 (estimated)  $721,865,255  \n",
       "3          Bluegrass Films                  $784,681           NaN  \n",
       "4       Universal Pictures   $85,000,000 (estimated)  $128,733,195  "
      ]
     },
     "execution_count": 3,
     "metadata": {},
     "output_type": "execute_result"
    }
   ],
   "source": [
    "\n",
    "IMDB_df = pd.read_csv(\"C:\\\\Users\\\\dixit\\\\OneDrive\\\\Desktop\\\\imdbdataset.csv\")\n",
    "IMDB_df.head()"
   ]
  },
  {
   "cell_type": "code",
   "execution_count": 4,
   "id": "09a8852a",
   "metadata": {},
   "outputs": [
    {
     "name": "stdout",
     "output_type": "stream",
     "text": [
      "<class 'pandas.core.frame.DataFrame'>\n",
      "RangeIndex: 12310 entries, 0 to 12309\n",
      "Data columns (total 15 columns):\n",
      " #   Column                    Non-Null Count  Dtype  \n",
      "---  ------                    --------------  -----  \n",
      " 0   Movies_name               12310 non-null  object \n",
      " 1   Movies_url                12310 non-null  object \n",
      " 2   Movies_Time (in minutes)  7818 non-null   object \n",
      " 3   Movies_Content_Type       11517 non-null  object \n",
      " 4   Movies_Director           12223 non-null  object \n",
      " 5   Movies_Ratings            5245 non-null   float64\n",
      " 6   Movies_Votes              5251 non-null   object \n",
      " 7   Movies_User_Reviews       418 non-null    object \n",
      " 8   Movies_Critic_reviews     418 non-null    object \n",
      " 9   Movies_Writers            1394 non-null   object \n",
      " 10  Movies_Release_Date       11923 non-null  object \n",
      " 11  Movies_Origin_Country     262 non-null    object \n",
      " 12  Movies_ProductionCompany  725 non-null    object \n",
      " 13  Movies_Budget             4771 non-null   object \n",
      " 14  Movies_Gross              344 non-null    object \n",
      "dtypes: float64(1), object(14)\n",
      "memory usage: 1.4+ MB\n"
     ]
    }
   ],
   "source": [
    "# Info of IMDB_df\n",
    "IMDB_df.info()"
   ]
  },
  {
   "cell_type": "code",
   "execution_count": 5,
   "id": "6fa45dae",
   "metadata": {},
   "outputs": [
    {
     "data": {
      "text/plain": [
       "(12310, 15)"
      ]
     },
     "execution_count": 5,
     "metadata": {},
     "output_type": "execute_result"
    }
   ],
   "source": [
    "# Shape of IMDB_df\n",
    "IMDB_df.shape"
   ]
  },
  {
   "cell_type": "code",
   "execution_count": 6,
   "id": "98d22dca",
   "metadata": {},
   "outputs": [
    {
     "data": {
      "text/html": [
       "<div>\n",
       "<style scoped>\n",
       "    .dataframe tbody tr th:only-of-type {\n",
       "        vertical-align: middle;\n",
       "    }\n",
       "\n",
       "    .dataframe tbody tr th {\n",
       "        vertical-align: top;\n",
       "    }\n",
       "\n",
       "    .dataframe thead th {\n",
       "        text-align: right;\n",
       "    }\n",
       "</style>\n",
       "<table border=\"1\" class=\"dataframe\">\n",
       "  <thead>\n",
       "    <tr style=\"text-align: right;\">\n",
       "      <th></th>\n",
       "      <th>Movies_Ratings</th>\n",
       "    </tr>\n",
       "  </thead>\n",
       "  <tbody>\n",
       "    <tr>\n",
       "      <th>count</th>\n",
       "      <td>5245.000000</td>\n",
       "    </tr>\n",
       "    <tr>\n",
       "      <th>mean</th>\n",
       "      <td>6.169514</td>\n",
       "    </tr>\n",
       "    <tr>\n",
       "      <th>std</th>\n",
       "      <td>1.633794</td>\n",
       "    </tr>\n",
       "    <tr>\n",
       "      <th>min</th>\n",
       "      <td>1.000000</td>\n",
       "    </tr>\n",
       "    <tr>\n",
       "      <th>25%</th>\n",
       "      <td>5.200000</td>\n",
       "    </tr>\n",
       "    <tr>\n",
       "      <th>50%</th>\n",
       "      <td>6.300000</td>\n",
       "    </tr>\n",
       "    <tr>\n",
       "      <th>75%</th>\n",
       "      <td>7.300000</td>\n",
       "    </tr>\n",
       "    <tr>\n",
       "      <th>max</th>\n",
       "      <td>10.000000</td>\n",
       "    </tr>\n",
       "  </tbody>\n",
       "</table>\n",
       "</div>"
      ],
      "text/plain": [
       "       Movies_Ratings\n",
       "count     5245.000000\n",
       "mean         6.169514\n",
       "std          1.633794\n",
       "min          1.000000\n",
       "25%          5.200000\n",
       "50%          6.300000\n",
       "75%          7.300000\n",
       "max         10.000000"
      ]
     },
     "execution_count": 6,
     "metadata": {},
     "output_type": "execute_result"
    }
   ],
   "source": [
    "# Describe on IMDB_df\n",
    "IMDB_df.describe()"
   ]
  },
  {
   "cell_type": "code",
   "execution_count": 7,
   "id": "6007b19b",
   "metadata": {},
   "outputs": [
    {
     "data": {
      "text/html": [
       "<div>\n",
       "<style scoped>\n",
       "    .dataframe tbody tr th:only-of-type {\n",
       "        vertical-align: middle;\n",
       "    }\n",
       "\n",
       "    .dataframe tbody tr th {\n",
       "        vertical-align: top;\n",
       "    }\n",
       "\n",
       "    .dataframe thead th {\n",
       "        text-align: right;\n",
       "    }\n",
       "</style>\n",
       "<table border=\"1\" class=\"dataframe\">\n",
       "  <thead>\n",
       "    <tr style=\"text-align: right;\">\n",
       "      <th></th>\n",
       "      <th>Movies_Ratings</th>\n",
       "    </tr>\n",
       "  </thead>\n",
       "  <tbody>\n",
       "    <tr>\n",
       "      <th>count</th>\n",
       "      <td>5245.000000</td>\n",
       "    </tr>\n",
       "    <tr>\n",
       "      <th>mean</th>\n",
       "      <td>6.169514</td>\n",
       "    </tr>\n",
       "    <tr>\n",
       "      <th>std</th>\n",
       "      <td>1.633794</td>\n",
       "    </tr>\n",
       "    <tr>\n",
       "      <th>min</th>\n",
       "      <td>1.000000</td>\n",
       "    </tr>\n",
       "    <tr>\n",
       "      <th>25%</th>\n",
       "      <td>5.200000</td>\n",
       "    </tr>\n",
       "    <tr>\n",
       "      <th>50%</th>\n",
       "      <td>6.300000</td>\n",
       "    </tr>\n",
       "    <tr>\n",
       "      <th>75%</th>\n",
       "      <td>7.300000</td>\n",
       "    </tr>\n",
       "    <tr>\n",
       "      <th>90%</th>\n",
       "      <td>8.200000</td>\n",
       "    </tr>\n",
       "    <tr>\n",
       "      <th>95%</th>\n",
       "      <td>8.700000</td>\n",
       "    </tr>\n",
       "    <tr>\n",
       "      <th>99%</th>\n",
       "      <td>9.400000</td>\n",
       "    </tr>\n",
       "    <tr>\n",
       "      <th>max</th>\n",
       "      <td>10.000000</td>\n",
       "    </tr>\n",
       "  </tbody>\n",
       "</table>\n",
       "</div>"
      ],
      "text/plain": [
       "       Movies_Ratings\n",
       "count     5245.000000\n",
       "mean         6.169514\n",
       "std          1.633794\n",
       "min          1.000000\n",
       "25%          5.200000\n",
       "50%          6.300000\n",
       "75%          7.300000\n",
       "90%          8.200000\n",
       "95%          8.700000\n",
       "99%          9.400000\n",
       "max         10.000000"
      ]
     },
     "execution_count": 7,
     "metadata": {},
     "output_type": "execute_result"
    }
   ],
   "source": [
    "# Checking outliers at 25%, 50%, 75%, 90%, 95% and 99%\n",
    "IMDB_df.describe(percentiles=[.25, .5, .75, .90, .95, .99])"
   ]
  },
  {
   "cell_type": "code",
   "execution_count": 8,
   "id": "fe86791d",
   "metadata": {},
   "outputs": [
    {
     "data": {
      "text/plain": [
       "Movies_name                 12094\n",
       "Movies_url                  12310\n",
       "Movies_Time (in minutes)      213\n",
       "Movies_Content_Type           451\n",
       "Movies_Director             10356\n",
       "Movies_Ratings                 90\n",
       "Movies_Votes                 1429\n",
       "Movies_User_Reviews           246\n",
       "Movies_Critic_reviews         181\n",
       "Movies_Writers               1354\n",
       "Movies_Release_Date          4086\n",
       "Movies_Origin_Country           7\n",
       "Movies_ProductionCompany      675\n",
       "Movies_Budget                2167\n",
       "Movies_Gross                  228\n",
       "dtype: int64"
      ]
     },
     "execution_count": 8,
     "metadata": {},
     "output_type": "execute_result"
    }
   ],
   "source": [
    "# checking Unique values\n",
    "IMDB_df.nunique()"
   ]
  },
  {
   "cell_type": "code",
   "execution_count": 9,
   "id": "ac242a6e",
   "metadata": {},
   "outputs": [
    {
     "data": {
      "text/html": [
       "<div>\n",
       "<style scoped>\n",
       "    .dataframe tbody tr th:only-of-type {\n",
       "        vertical-align: middle;\n",
       "    }\n",
       "\n",
       "    .dataframe tbody tr th {\n",
       "        vertical-align: top;\n",
       "    }\n",
       "\n",
       "    .dataframe thead th {\n",
       "        text-align: right;\n",
       "    }\n",
       "</style>\n",
       "<table border=\"1\" class=\"dataframe\">\n",
       "  <thead>\n",
       "    <tr style=\"text-align: right;\">\n",
       "      <th></th>\n",
       "      <th>Movies_name</th>\n",
       "      <th>Movies_url</th>\n",
       "      <th>Movies_Time (in minutes)</th>\n",
       "      <th>Movies_Content_Type</th>\n",
       "      <th>Movies_Director</th>\n",
       "      <th>Movies_Ratings</th>\n",
       "      <th>Movies_Votes</th>\n",
       "      <th>Movies_User_Reviews</th>\n",
       "      <th>Movies_Critic_reviews</th>\n",
       "      <th>Movies_Writers</th>\n",
       "      <th>Movies_Release_Date</th>\n",
       "      <th>Movies_Origin_Country</th>\n",
       "      <th>Movies_ProductionCompany</th>\n",
       "      <th>Movies_Budget</th>\n",
       "      <th>Movies_Gross</th>\n",
       "    </tr>\n",
       "  </thead>\n",
       "  <tbody>\n",
       "    <tr>\n",
       "      <th>0</th>\n",
       "      <td>False</td>\n",
       "      <td>False</td>\n",
       "      <td>False</td>\n",
       "      <td>False</td>\n",
       "      <td>False</td>\n",
       "      <td>False</td>\n",
       "      <td>False</td>\n",
       "      <td>False</td>\n",
       "      <td>False</td>\n",
       "      <td>False</td>\n",
       "      <td>False</td>\n",
       "      <td>False</td>\n",
       "      <td>False</td>\n",
       "      <td>False</td>\n",
       "      <td>False</td>\n",
       "    </tr>\n",
       "    <tr>\n",
       "      <th>1</th>\n",
       "      <td>False</td>\n",
       "      <td>False</td>\n",
       "      <td>False</td>\n",
       "      <td>False</td>\n",
       "      <td>False</td>\n",
       "      <td>False</td>\n",
       "      <td>False</td>\n",
       "      <td>False</td>\n",
       "      <td>False</td>\n",
       "      <td>False</td>\n",
       "      <td>False</td>\n",
       "      <td>True</td>\n",
       "      <td>True</td>\n",
       "      <td>False</td>\n",
       "      <td>False</td>\n",
       "    </tr>\n",
       "    <tr>\n",
       "      <th>2</th>\n",
       "      <td>False</td>\n",
       "      <td>False</td>\n",
       "      <td>False</td>\n",
       "      <td>False</td>\n",
       "      <td>False</td>\n",
       "      <td>False</td>\n",
       "      <td>False</td>\n",
       "      <td>False</td>\n",
       "      <td>False</td>\n",
       "      <td>False</td>\n",
       "      <td>False</td>\n",
       "      <td>True</td>\n",
       "      <td>False</td>\n",
       "      <td>False</td>\n",
       "      <td>False</td>\n",
       "    </tr>\n",
       "    <tr>\n",
       "      <th>3</th>\n",
       "      <td>False</td>\n",
       "      <td>False</td>\n",
       "      <td>False</td>\n",
       "      <td>False</td>\n",
       "      <td>False</td>\n",
       "      <td>False</td>\n",
       "      <td>False</td>\n",
       "      <td>False</td>\n",
       "      <td>False</td>\n",
       "      <td>True</td>\n",
       "      <td>False</td>\n",
       "      <td>True</td>\n",
       "      <td>False</td>\n",
       "      <td>False</td>\n",
       "      <td>True</td>\n",
       "    </tr>\n",
       "    <tr>\n",
       "      <th>4</th>\n",
       "      <td>False</td>\n",
       "      <td>False</td>\n",
       "      <td>False</td>\n",
       "      <td>False</td>\n",
       "      <td>False</td>\n",
       "      <td>False</td>\n",
       "      <td>False</td>\n",
       "      <td>False</td>\n",
       "      <td>False</td>\n",
       "      <td>True</td>\n",
       "      <td>False</td>\n",
       "      <td>False</td>\n",
       "      <td>False</td>\n",
       "      <td>False</td>\n",
       "      <td>False</td>\n",
       "    </tr>\n",
       "    <tr>\n",
       "      <th>...</th>\n",
       "      <td>...</td>\n",
       "      <td>...</td>\n",
       "      <td>...</td>\n",
       "      <td>...</td>\n",
       "      <td>...</td>\n",
       "      <td>...</td>\n",
       "      <td>...</td>\n",
       "      <td>...</td>\n",
       "      <td>...</td>\n",
       "      <td>...</td>\n",
       "      <td>...</td>\n",
       "      <td>...</td>\n",
       "      <td>...</td>\n",
       "      <td>...</td>\n",
       "      <td>...</td>\n",
       "    </tr>\n",
       "    <tr>\n",
       "      <th>12305</th>\n",
       "      <td>False</td>\n",
       "      <td>False</td>\n",
       "      <td>False</td>\n",
       "      <td>False</td>\n",
       "      <td>False</td>\n",
       "      <td>True</td>\n",
       "      <td>True</td>\n",
       "      <td>True</td>\n",
       "      <td>True</td>\n",
       "      <td>True</td>\n",
       "      <td>False</td>\n",
       "      <td>True</td>\n",
       "      <td>True</td>\n",
       "      <td>False</td>\n",
       "      <td>True</td>\n",
       "    </tr>\n",
       "    <tr>\n",
       "      <th>12306</th>\n",
       "      <td>False</td>\n",
       "      <td>False</td>\n",
       "      <td>False</td>\n",
       "      <td>False</td>\n",
       "      <td>False</td>\n",
       "      <td>True</td>\n",
       "      <td>True</td>\n",
       "      <td>True</td>\n",
       "      <td>True</td>\n",
       "      <td>True</td>\n",
       "      <td>False</td>\n",
       "      <td>True</td>\n",
       "      <td>True</td>\n",
       "      <td>True</td>\n",
       "      <td>True</td>\n",
       "    </tr>\n",
       "    <tr>\n",
       "      <th>12307</th>\n",
       "      <td>False</td>\n",
       "      <td>False</td>\n",
       "      <td>True</td>\n",
       "      <td>False</td>\n",
       "      <td>False</td>\n",
       "      <td>True</td>\n",
       "      <td>True</td>\n",
       "      <td>True</td>\n",
       "      <td>True</td>\n",
       "      <td>True</td>\n",
       "      <td>False</td>\n",
       "      <td>True</td>\n",
       "      <td>True</td>\n",
       "      <td>True</td>\n",
       "      <td>True</td>\n",
       "    </tr>\n",
       "    <tr>\n",
       "      <th>12308</th>\n",
       "      <td>False</td>\n",
       "      <td>False</td>\n",
       "      <td>True</td>\n",
       "      <td>False</td>\n",
       "      <td>False</td>\n",
       "      <td>True</td>\n",
       "      <td>True</td>\n",
       "      <td>True</td>\n",
       "      <td>True</td>\n",
       "      <td>True</td>\n",
       "      <td>False</td>\n",
       "      <td>True</td>\n",
       "      <td>True</td>\n",
       "      <td>True</td>\n",
       "      <td>True</td>\n",
       "    </tr>\n",
       "    <tr>\n",
       "      <th>12309</th>\n",
       "      <td>False</td>\n",
       "      <td>False</td>\n",
       "      <td>True</td>\n",
       "      <td>True</td>\n",
       "      <td>False</td>\n",
       "      <td>True</td>\n",
       "      <td>True</td>\n",
       "      <td>True</td>\n",
       "      <td>True</td>\n",
       "      <td>True</td>\n",
       "      <td>True</td>\n",
       "      <td>True</td>\n",
       "      <td>True</td>\n",
       "      <td>True</td>\n",
       "      <td>True</td>\n",
       "    </tr>\n",
       "  </tbody>\n",
       "</table>\n",
       "<p>12310 rows × 15 columns</p>\n",
       "</div>"
      ],
      "text/plain": [
       "       Movies_name  Movies_url  Movies_Time (in minutes)  Movies_Content_Type  \\\n",
       "0            False       False                     False                False   \n",
       "1            False       False                     False                False   \n",
       "2            False       False                     False                False   \n",
       "3            False       False                     False                False   \n",
       "4            False       False                     False                False   \n",
       "...            ...         ...                       ...                  ...   \n",
       "12305        False       False                     False                False   \n",
       "12306        False       False                     False                False   \n",
       "12307        False       False                      True                False   \n",
       "12308        False       False                      True                False   \n",
       "12309        False       False                      True                 True   \n",
       "\n",
       "       Movies_Director  Movies_Ratings  Movies_Votes  Movies_User_Reviews  \\\n",
       "0                False           False         False                False   \n",
       "1                False           False         False                False   \n",
       "2                False           False         False                False   \n",
       "3                False           False         False                False   \n",
       "4                False           False         False                False   \n",
       "...                ...             ...           ...                  ...   \n",
       "12305            False            True          True                 True   \n",
       "12306            False            True          True                 True   \n",
       "12307            False            True          True                 True   \n",
       "12308            False            True          True                 True   \n",
       "12309            False            True          True                 True   \n",
       "\n",
       "       Movies_Critic_reviews  Movies_Writers  Movies_Release_Date  \\\n",
       "0                      False           False                False   \n",
       "1                      False           False                False   \n",
       "2                      False           False                False   \n",
       "3                      False            True                False   \n",
       "4                      False            True                False   \n",
       "...                      ...             ...                  ...   \n",
       "12305                   True            True                False   \n",
       "12306                   True            True                False   \n",
       "12307                   True            True                False   \n",
       "12308                   True            True                False   \n",
       "12309                   True            True                 True   \n",
       "\n",
       "       Movies_Origin_Country  Movies_ProductionCompany  Movies_Budget  \\\n",
       "0                      False                     False          False   \n",
       "1                       True                      True          False   \n",
       "2                       True                     False          False   \n",
       "3                       True                     False          False   \n",
       "4                      False                     False          False   \n",
       "...                      ...                       ...            ...   \n",
       "12305                   True                      True          False   \n",
       "12306                   True                      True           True   \n",
       "12307                   True                      True           True   \n",
       "12308                   True                      True           True   \n",
       "12309                   True                      True           True   \n",
       "\n",
       "       Movies_Gross  \n",
       "0             False  \n",
       "1             False  \n",
       "2             False  \n",
       "3              True  \n",
       "4             False  \n",
       "...             ...  \n",
       "12305          True  \n",
       "12306          True  \n",
       "12307          True  \n",
       "12308          True  \n",
       "12309          True  \n",
       "\n",
       "[12310 rows x 15 columns]"
      ]
     },
     "execution_count": 9,
     "metadata": {},
     "output_type": "execute_result"
    }
   ],
   "source": [
    "# Checking the number of null values in each column:\n",
    "IMDB_df.isnull()"
   ]
  },
  {
   "cell_type": "code",
   "execution_count": 10,
   "id": "d6781bb1",
   "metadata": {},
   "outputs": [
    {
     "data": {
      "text/plain": [
       "Movies_Origin_Country       12048\n",
       "Movies_Gross                11966\n",
       "Movies_User_Reviews         11892\n",
       "Movies_Critic_reviews       11892\n",
       "Movies_ProductionCompany    11585\n",
       "Movies_Writers              10916\n",
       "Movies_Budget                7539\n",
       "Movies_Ratings               7065\n",
       "Movies_Votes                 7059\n",
       "Movies_Time (in minutes)     4492\n",
       "Movies_Content_Type           793\n",
       "Movies_Release_Date           387\n",
       "Movies_Director                87\n",
       "Movies_name                     0\n",
       "Movies_url                      0\n",
       "dtype: int64"
      ]
     },
     "execution_count": 10,
     "metadata": {},
     "output_type": "execute_result"
    }
   ],
   "source": [
    "IMDB_df.isnull().sum().sort_values(ascending = False)"
   ]
  },
  {
   "cell_type": "code",
   "execution_count": 11,
   "id": "871b949b",
   "metadata": {},
   "outputs": [
    {
     "data": {
      "text/plain": [
       "Movies_name                  0.00\n",
       "Movies_url                   0.00\n",
       "Movies_Time (in minutes)    36.49\n",
       "Movies_Content_Type          6.44\n",
       "Movies_Director              0.71\n",
       "Movies_Ratings              57.39\n",
       "Movies_Votes                57.34\n",
       "Movies_User_Reviews         96.60\n",
       "Movies_Critic_reviews       96.60\n",
       "Movies_Writers              88.68\n",
       "Movies_Release_Date          3.14\n",
       "Movies_Origin_Country       97.87\n",
       "Movies_ProductionCompany    94.11\n",
       "Movies_Budget               61.24\n",
       "Movies_Gross                97.21\n",
       "dtype: float64"
      ]
     },
     "execution_count": 11,
     "metadata": {},
     "output_type": "execute_result"
    }
   ],
   "source": [
    "# checking for the percentage of null values in each column \n",
    "\n",
    "round((IMDB_df.isnull().sum(axis = 0)/ len(IMDB_df.index))*100 , 2)"
   ]
  },
  {
   "cell_type": "code",
   "execution_count": 12,
   "id": "edc45825",
   "metadata": {},
   "outputs": [],
   "source": [
    "\n",
    "# We would be dropping columns with more than 60% missing data in the 'Data Cleaning' section.\n",
    "# Dropping the repeated variables\n",
    "#IMDB_df =  IMDB_df.drop(['Movies_User_Reviews','Movies_url','Movies_Budget', 'Movies_Critic_reviews', 'Movies_Writers', 'Movies_Gross','Movies_ProductionCompany','Movies_Origin_Country'], axis = 1)\n",
    "#IMDB_df.head()"
   ]
  },
  {
   "cell_type": "code",
   "execution_count": 13,
   "id": "d9b4f920",
   "metadata": {},
   "outputs": [
    {
     "data": {
      "text/plain": [
       "Movies_name                  0.00\n",
       "Movies_url                   0.00\n",
       "Movies_Time (in minutes)    36.49\n",
       "Movies_Content_Type          6.44\n",
       "Movies_Director              0.71\n",
       "Movies_Ratings              57.39\n",
       "Movies_Votes                57.34\n",
       "Movies_User_Reviews         96.60\n",
       "Movies_Critic_reviews       96.60\n",
       "Movies_Writers              88.68\n",
       "Movies_Release_Date          3.14\n",
       "Movies_Origin_Country       97.87\n",
       "Movies_ProductionCompany    94.11\n",
       "Movies_Budget               61.24\n",
       "Movies_Gross                97.21\n",
       "dtype: float64"
      ]
     },
     "execution_count": 13,
     "metadata": {},
     "output_type": "execute_result"
    }
   ],
   "source": [
    "# checking againfor the percentage of null values in each column \n",
    "\n",
    "round((IMDB_df.isnull().sum(axis = 0)/ len(IMDB_df.index))*100 , 2)"
   ]
  },
  {
   "cell_type": "code",
   "execution_count": 14,
   "id": "7587792d",
   "metadata": {
    "scrolled": true
   },
   "outputs": [
    {
     "data": {
      "text/html": [
       "<div>\n",
       "<style scoped>\n",
       "    .dataframe tbody tr th:only-of-type {\n",
       "        vertical-align: middle;\n",
       "    }\n",
       "\n",
       "    .dataframe tbody tr th {\n",
       "        vertical-align: top;\n",
       "    }\n",
       "\n",
       "    .dataframe thead th {\n",
       "        text-align: right;\n",
       "    }\n",
       "</style>\n",
       "<table border=\"1\" class=\"dataframe\">\n",
       "  <thead>\n",
       "    <tr style=\"text-align: right;\">\n",
       "      <th></th>\n",
       "      <th>Movies_name</th>\n",
       "      <th>Movies_url</th>\n",
       "      <th>Movies_Time (in minutes)</th>\n",
       "      <th>Movies_Content_Type</th>\n",
       "      <th>Movies_Director</th>\n",
       "      <th>Movies_Ratings</th>\n",
       "      <th>Movies_Votes</th>\n",
       "      <th>Movies_User_Reviews</th>\n",
       "      <th>Movies_Critic_reviews</th>\n",
       "      <th>Movies_Writers</th>\n",
       "      <th>Movies_Release_Date</th>\n",
       "      <th>Movies_Origin_Country</th>\n",
       "      <th>Movies_ProductionCompany</th>\n",
       "      <th>Movies_Budget</th>\n",
       "      <th>Movies_Gross</th>\n",
       "    </tr>\n",
       "  </thead>\n",
       "  <tbody>\n",
       "    <tr>\n",
       "      <th>0</th>\n",
       "      <td>Eternals</td>\n",
       "      <td>https://www.imdb.com/title/tt9032400/?ref_=adv...</td>\n",
       "      <td>156 min</td>\n",
       "      <td>Action, Adventure, Fantasy</td>\n",
       "      <td>ChloÃ© Zhao</td>\n",
       "      <td>6.5</td>\n",
       "      <td>2,19,680</td>\n",
       "      <td>2.9KUser reviews</td>\n",
       "      <td>312Critic reviews</td>\n",
       "      <td>Ryan Firpo</td>\n",
       "      <td>November 5, 2021 (United States)</td>\n",
       "      <td>United States</td>\n",
       "      <td>Marvel Studios</td>\n",
       "      <td>$200,000,000 (estimated)</td>\n",
       "      <td>$164,866,810</td>\n",
       "    </tr>\n",
       "    <tr>\n",
       "      <th>1</th>\n",
       "      <td>Encanto</td>\n",
       "      <td>https://www.imdb.com/title/tt2953050/?ref_=adv...</td>\n",
       "      <td>102 min</td>\n",
       "      <td>Animation, Adventure, Comedy</td>\n",
       "      <td>Jared Bush</td>\n",
       "      <td>7.3</td>\n",
       "      <td>1,11,263</td>\n",
       "      <td>812User reviews</td>\n",
       "      <td>190Critic reviews</td>\n",
       "      <td>Byron Howard</td>\n",
       "      <td>November 24, 2021 (United States)</td>\n",
       "      <td>0</td>\n",
       "      <td>0</td>\n",
       "      <td>$50,000,000 (estimated)</td>\n",
       "      <td>$93,444,336</td>\n",
       "    </tr>\n",
       "    <tr>\n",
       "      <th>2</th>\n",
       "      <td>Spider-Man: No Way Home</td>\n",
       "      <td>https://www.imdb.com/title/tt10872600/?ref_=ad...</td>\n",
       "      <td>148 min</td>\n",
       "      <td>Action, Adventure, Fantasy</td>\n",
       "      <td>Jon Watts</td>\n",
       "      <td>8.7</td>\n",
       "      <td>4,17,069</td>\n",
       "      <td>4.8KUser reviews</td>\n",
       "      <td>334Critic reviews</td>\n",
       "      <td>Stan Lee</td>\n",
       "      <td>December 17, 2021 (United States)</td>\n",
       "      <td>0</td>\n",
       "      <td>Marvel Studios</td>\n",
       "      <td>$200,000,000 (estimated)</td>\n",
       "      <td>$721,865,255</td>\n",
       "    </tr>\n",
       "    <tr>\n",
       "      <th>3</th>\n",
       "      <td>Don't Look Up</td>\n",
       "      <td>https://www.imdb.com/title/tt11286314/?ref_=ad...</td>\n",
       "      <td>138 min</td>\n",
       "      <td>Comedy, Drama, Sci-Fi</td>\n",
       "      <td>Adam McKay</td>\n",
       "      <td>7.3</td>\n",
       "      <td>3,84,415</td>\n",
       "      <td>4KUser reviews</td>\n",
       "      <td>254Critic reviews</td>\n",
       "      <td>0</td>\n",
       "      <td>December 24, 2021 (United States)</td>\n",
       "      <td>0</td>\n",
       "      <td>Bluegrass Films</td>\n",
       "      <td>$784,681</td>\n",
       "      <td>0</td>\n",
       "    </tr>\n",
       "    <tr>\n",
       "      <th>4</th>\n",
       "      <td>Sing 2</td>\n",
       "      <td>https://www.imdb.com/title/tt6467266/?ref_=adv...</td>\n",
       "      <td>110 min</td>\n",
       "      <td>Animation, Adventure, Comedy</td>\n",
       "      <td>Garth Jennings</td>\n",
       "      <td>7.6</td>\n",
       "      <td>22,928</td>\n",
       "      <td>242User reviews</td>\n",
       "      <td>90Critic reviews</td>\n",
       "      <td>0</td>\n",
       "      <td>December 22, 2021 (United States)</td>\n",
       "      <td>Color</td>\n",
       "      <td>Universal Pictures</td>\n",
       "      <td>$85,000,000 (estimated)</td>\n",
       "      <td>$128,733,195</td>\n",
       "    </tr>\n",
       "  </tbody>\n",
       "</table>\n",
       "</div>"
      ],
      "text/plain": [
       "               Movies_name                                         Movies_url  \\\n",
       "0                 Eternals  https://www.imdb.com/title/tt9032400/?ref_=adv...   \n",
       "1                  Encanto  https://www.imdb.com/title/tt2953050/?ref_=adv...   \n",
       "2  Spider-Man: No Way Home  https://www.imdb.com/title/tt10872600/?ref_=ad...   \n",
       "3            Don't Look Up  https://www.imdb.com/title/tt11286314/?ref_=ad...   \n",
       "4                   Sing 2  https://www.imdb.com/title/tt6467266/?ref_=adv...   \n",
       "\n",
       "  Movies_Time (in minutes)           Movies_Content_Type Movies_Director  \\\n",
       "0                  156 min    Action, Adventure, Fantasy     ChloÃ© Zhao   \n",
       "1                  102 min  Animation, Adventure, Comedy      Jared Bush   \n",
       "2                  148 min    Action, Adventure, Fantasy       Jon Watts   \n",
       "3                  138 min         Comedy, Drama, Sci-Fi      Adam McKay   \n",
       "4                  110 min  Animation, Adventure, Comedy  Garth Jennings   \n",
       "\n",
       "   Movies_Ratings Movies_Votes Movies_User_Reviews Movies_Critic_reviews  \\\n",
       "0             6.5     2,19,680    2.9KUser reviews     312Critic reviews   \n",
       "1             7.3     1,11,263     812User reviews     190Critic reviews   \n",
       "2             8.7     4,17,069    4.8KUser reviews     334Critic reviews   \n",
       "3             7.3     3,84,415      4KUser reviews     254Critic reviews   \n",
       "4             7.6       22,928     242User reviews      90Critic reviews   \n",
       "\n",
       "  Movies_Writers                Movies_Release_Date Movies_Origin_Country  \\\n",
       "0     Ryan Firpo   November 5, 2021 (United States)         United States   \n",
       "1   Byron Howard  November 24, 2021 (United States)                     0   \n",
       "2       Stan Lee  December 17, 2021 (United States)                     0   \n",
       "3              0  December 24, 2021 (United States)                     0   \n",
       "4              0  December 22, 2021 (United States)                 Color   \n",
       "\n",
       "  Movies_ProductionCompany             Movies_Budget  Movies_Gross  \n",
       "0           Marvel Studios  $200,000,000 (estimated)  $164,866,810  \n",
       "1                        0   $50,000,000 (estimated)   $93,444,336  \n",
       "2           Marvel Studios  $200,000,000 (estimated)  $721,865,255  \n",
       "3          Bluegrass Films                  $784,681             0  \n",
       "4       Universal Pictures   $85,000,000 (estimated)  $128,733,195  "
      ]
     },
     "execution_count": 14,
     "metadata": {},
     "output_type": "execute_result"
    }
   ],
   "source": [
    "# Fill null values with 0\n",
    "IMDB_df = IMDB_df.fillna(0)  # Fill null values with 0\n",
    "IMDB_df.head()\n"
   ]
  },
  {
   "cell_type": "code",
   "execution_count": null,
   "id": "34b8b5fd",
   "metadata": {},
   "outputs": [],
   "source": []
  },
  {
   "cell_type": "code",
   "execution_count": null,
   "id": "dcf47071",
   "metadata": {},
   "outputs": [],
   "source": []
  },
  {
   "cell_type": "code",
   "execution_count": 15,
   "id": "0c7d3ced",
   "metadata": {
    "scrolled": true
   },
   "outputs": [
    {
     "data": {
      "text/plain": [
       "array(['156 min', '102 min', '148 min', '138 min', '110 min', '152 min',\n",
       "       '105 min', '124 min', '126 min', '155 min', '133 min', '121 min',\n",
       "       '150 min', '106 min', '131 min', '132 min', '115 min', '109 min',\n",
       "       '163 min', '98 min', '158 min', '179 min', '107 min', '130 min',\n",
       "       '92 min', '116 min', '112 min', '117 min', '97 min', '104 min',\n",
       "       '118 min', '127 min', '111 min', '134 min', '144 min', '99 min',\n",
       "       '100 min', '242 min', '119 min', '108 min', '139 min', '90 min',\n",
       "       '143 min', '120 min', '95 min', '78 min', '128 min', '89 min',\n",
       "       '123 min', '96 min', '113 min', '82 min', '114 min', '141 min',\n",
       "       '162 min', '88 min', '164 min', '137 min', '91 min', '136 min',\n",
       "       '129 min', '93 min', '142 min', '81 min', '85 min', '83 min',\n",
       "       '145 min', '147 min', '86 min', '101 min', '103 min', '94 min',\n",
       "       '84 min', '151 min', '125 min', '72 min', '140 min', '70 min', 0,\n",
       "       '87 min', '165 min', '146 min', '167 min', '80 min', '135 min',\n",
       "       '58 min', '176 min', '76 min', '73 min', '75 min', '46 min',\n",
       "       '174 min', '154 min', '173 min', '122 min', '149 min', '181 min',\n",
       "       '53 min', '159 min', '169 min', '79 min', '65 min', '71 min',\n",
       "       '69 min', '77 min', '62 min', '66 min', '170 min', '180 min',\n",
       "       '160 min', '153 min', '61 min', '74 min', '48 min', '60 min',\n",
       "       '68 min', '49 min', '50 min', '157 min', '67 min', '208 min',\n",
       "       '161 min', '6 min', '220 min', '64 min', '24 min', '45 min',\n",
       "       '166 min', '168 min', '52 min', '178 min', '59 min', '199 min',\n",
       "       '54 min', '22 min', '63 min', '56 min', '205 min', '51 min',\n",
       "       '250 min', '47 min', '197 min', '55 min', '16 min', '25 min',\n",
       "       '188 min', '223 min', '57 min', '187 min', '200 min', '36 min',\n",
       "       '480 min', '37 min', '44 min', '15 min', '26 min', '10 min',\n",
       "       '641 min', '246 min', '32 min', '38 min', '40 min', '207 min',\n",
       "       '212 min', '13 min', '222 min', '175 min', '225 min', '14 min',\n",
       "       '35 min', '11 min', '230 min', '8 min', '247 min', '177 min',\n",
       "       '20 min', '5 min', '185 min', '18 min', '21 min', '39 min',\n",
       "       '235 min', '9 min', '17 min', '183 min', '373 min', '30 min',\n",
       "       '305 min', '1 min', '301 min', '361 min', '331 min', '12 min',\n",
       "       '182 min', '2 min', '264 min', '19 min', '216 min', '257 min',\n",
       "       '172 min', '375 min', '328 min', '29 min', '310 min', '3 min',\n",
       "       '312 min', '4 min', '271 min', '339 min', '43 min', '190 min',\n",
       "       '396 min', '409 min', '300 min'], dtype=object)"
      ]
     },
     "execution_count": 15,
     "metadata": {},
     "output_type": "execute_result"
    }
   ],
   "source": [
    "IMDB_df['Movies_Time (in minutes)'].unique()"
   ]
  },
  {
   "cell_type": "code",
   "execution_count": 16,
   "id": "521e0513",
   "metadata": {},
   "outputs": [],
   "source": [
    "\n",
    "IMDB_df['Movies_Time (in minutes)'] = pd.to_numeric(IMDB_df['Movies_Time (in minutes)'], errors='coerce')\n",
    "IMDB_df.dropna(subset=['Movies_Time (in minutes)'], inplace=True)"
   ]
  },
  {
   "cell_type": "code",
   "execution_count": 17,
   "id": "98e949ea",
   "metadata": {},
   "outputs": [],
   "source": [
    " # Select features and target variable\n",
    "X = IMDB_df[['Movies_Time (in minutes)', 'Movies_Votes', 'Movies_Budget']]\n",
    "y = IMDB_df['Movies_Ratings']\n"
   ]
  },
  {
   "cell_type": "code",
   "execution_count": 18,
   "id": "5180815e",
   "metadata": {},
   "outputs": [],
   "source": [
    "\n",
    "IMDB_df['Movies_Votes'] = pd.to_numeric(IMDB_df['Movies_Votes'], errors='coerce')\n",
    "IMDB_df.dropna(subset=['Movies_Votes'], inplace=True)"
   ]
  },
  {
   "cell_type": "code",
   "execution_count": 19,
   "id": "976663ad",
   "metadata": {},
   "outputs": [],
   "source": [
    "IMDB_df['Movies_Budget'] = IMDB_df['Movies_Budget'].str.replace('[^\\d.]', '', regex=True)\n",
    "IMDB_df['Movies_Budget'] = pd.to_numeric(IMDB_df['Movies_Budget'], errors='coerce')\n",
    "IMDB_df.dropna(subset=['Movies_Budget'], inplace=True)"
   ]
  },
  {
   "cell_type": "code",
   "execution_count": 20,
   "id": "fd750079",
   "metadata": {},
   "outputs": [
    {
     "name": "stdout",
     "output_type": "stream",
     "text": [
      "Index(['Movies_name', 'Movies_url', 'Movies_Time (in minutes)',\n",
      "       'Movies_Content_Type', 'Movies_Director', 'Movies_Ratings',\n",
      "       'Movies_Votes', 'Movies_User_Reviews', 'Movies_Critic_reviews',\n",
      "       'Movies_Writers', 'Movies_Release_Date', 'Movies_Origin_Country',\n",
      "       'Movies_ProductionCompany', 'Movies_Budget', 'Movies_Gross'],\n",
      "      dtype='object')\n"
     ]
    }
   ],
   "source": [
    "print(IMDB_df.columns)"
   ]
  },
  {
   "cell_type": "code",
   "execution_count": 21,
   "id": "b8a4841c",
   "metadata": {},
   "outputs": [],
   "source": [
    "# Convert to lowercase\n",
    "IMDB_df['Movies_name'] = IMDB_df['Movies_name'].str.lower()"
   ]
  },
  {
   "cell_type": "code",
   "execution_count": 22,
   "id": "878e945a",
   "metadata": {},
   "outputs": [],
   "source": [
    "# Remove numbers from 'Movies_name' column\n",
    "IMDB_df['Movies_name'] = IMDB_df['Movies_name'].replace('\\d+', '', regex=True)"
   ]
  },
  {
   "cell_type": "code",
   "execution_count": 23,
   "id": "f0d3887f",
   "metadata": {},
   "outputs": [],
   "source": [
    "# Remove numbers from 'Movies_name' column\n",
    "IMDB_df['Movies_name'] = IMDB_df['Movies_name'].replace('\\d+', '', regex=True)"
   ]
  },
  {
   "cell_type": "code",
   "execution_count": 24,
   "id": "92612c46",
   "metadata": {},
   "outputs": [],
   "source": [
    "IMDB_df['Movies_name'] = IMDB_df['Movies_name'].str.strip()"
   ]
  },
  {
   "cell_type": "code",
   "execution_count": 25,
   "id": "3f7c7af1",
   "metadata": {},
   "outputs": [],
   "source": [
    "    # Preprocessing: Select features and target variable\n",
    "    X = IMDB_df['Movies_name']\n",
    "    y = IMDB_df['Movies_Ratings']"
   ]
  },
  {
   "cell_type": "code",
   "execution_count": 26,
   "id": "45cc7747",
   "metadata": {},
   "outputs": [],
   "source": [
    "# Convert to lowercase\n",
    "X = X.str.lower()\n"
   ]
  },
  {
   "cell_type": "code",
   "execution_count": 27,
   "id": "ed7b1264",
   "metadata": {},
   "outputs": [],
   "source": [
    "# Remove numbers\n",
    "X= X.str.replace('\\d+', '')\n"
   ]
  },
  {
   "cell_type": "code",
   "execution_count": 28,
   "id": "6937c504",
   "metadata": {},
   "outputs": [],
   "source": [
    "# Remove leading/trailing whitespaces\n",
    "X = X.str.strip()\n"
   ]
  },
  {
   "cell_type": "code",
   "execution_count": 29,
   "id": "44b3a96a",
   "metadata": {},
   "outputs": [],
   "source": [
    "# Preprocess text data\n",
    "vectorizer = TfidfVectorizer()\n",
    "X_tfidf = vectorizer.fit_transform(X)\n"
   ]
  },
  {
   "cell_type": "code",
   "execution_count": 30,
   "id": "39e6eff6",
   "metadata": {},
   "outputs": [],
   "source": [
    "# Perform feature scaling\n",
    "scaler = StandardScaler()\n",
    "X_scaled = scaler.fit_transform(X_tfidf.toarray())"
   ]
  },
  {
   "cell_type": "code",
   "execution_count": 31,
   "id": "10c93d02",
   "metadata": {},
   "outputs": [],
   "source": [
    "# Split the data into training and testing sets\n",
    "X_train, X_test, y_train, y_test = train_test_split(X_scaled, y, test_size=0.2, random_state=42)"
   ]
  },
  {
   "cell_type": "code",
   "execution_count": 32,
   "id": "8beaa14d",
   "metadata": {},
   "outputs": [],
   "source": [
    "# Step 3: Custom preprocessor function\n",
    "\n",
    "def custom_preprocessor(doc):\n",
    "    if isinstance(doc, np.ndarray):\n",
    "        doc = ' '.join(str(item) for item in doc)\n",
    "    elif isinstance(doc, list):\n",
    "        doc = ' '.join(doc)\n",
    "    doc = doc.lower()\n",
    "    return doc"
   ]
  },
  {
   "cell_type": "code",
   "execution_count": 33,
   "id": "cd671be4",
   "metadata": {},
   "outputs": [],
   "source": [
    "# Step 4: Convert numpy arrays to strings and preprocess\n",
    "X_train_preprocessed = [custom_preprocessor(doc) for doc in X_train]\n",
    "X_test_preprocessed = [custom_preprocessor(doc) for doc in X_test]\n"
   ]
  },
  {
   "cell_type": "code",
   "execution_count": 34,
   "id": "6ccc599f",
   "metadata": {
    "scrolled": true
   },
   "outputs": [],
   "source": [
    "# Preprocessing: Create feature vectors using TF-IDF vectorizer\n",
    "vectorizer = TfidfVectorizer(preprocessor=custom_preprocessor)\n",
    "X_train_features = vectorizer.fit_transform(X_train_preprocessed)\n",
    "X_test_features = vectorizer.transform(X_test_preprocessed)\n"
   ]
  },
  {
   "cell_type": "code",
   "execution_count": 35,
   "id": "55e48a2a",
   "metadata": {},
   "outputs": [],
   "source": [
    "# Convert numpy arrays to strings and preprocess\n",
    "X_train_preprocessed = [custom_preprocessor(doc) for doc in X_train]\n"
   ]
  },
  {
   "cell_type": "code",
   "execution_count": 36,
   "id": "d03e899f",
   "metadata": {},
   "outputs": [],
   "source": [
    "# Create feature vectors using TF-IDF vectorizer\n",
    "X_train_features = vectorizer.fit_transform(X_train_preprocessed)"
   ]
  },
  {
   "cell_type": "code",
   "execution_count": null,
   "id": "0522c66c",
   "metadata": {},
   "outputs": [],
   "source": []
  },
  {
   "cell_type": "code",
   "execution_count": 37,
   "id": "33828212",
   "metadata": {},
   "outputs": [],
   "source": [
    "# Define a threshold value to classify sentiment\n",
    "threshold = 5.0\n"
   ]
  },
  {
   "cell_type": "code",
   "execution_count": 38,
   "id": "804bf12a",
   "metadata": {},
   "outputs": [],
   "source": [
    "# Convert target variable into binary classification labels\n",
    "y_train_binary = (y_train >= threshold).astype(int)\n",
    "y_test_binary = (y_test >= threshold).astype(int)\n"
   ]
  },
  {
   "cell_type": "code",
   "execution_count": 39,
   "id": "fd1e0551",
   "metadata": {},
   "outputs": [],
   "source": [
    "# Step 9: Model building - Logistic Regression\n",
    "logreg = LogisticRegression()\n",
    "logreg.fit(X_train, y_train_binary)\n",
    "y_pred_logreg = logreg.predict(X_test)\n",
    "\n"
   ]
  },
  {
   "cell_type": "code",
   "execution_count": 40,
   "id": "6a2e8977",
   "metadata": {},
   "outputs": [],
   "source": [
    "# Step 10: Evaluate the accuracy\n",
    "accuracy = accuracy_score(y_test_binary, y_pred_logreg)\n",
    "\n"
   ]
  },
  {
   "cell_type": "code",
   "execution_count": 41,
   "id": "805b514e",
   "metadata": {},
   "outputs": [
    {
     "name": "stdout",
     "output_type": "stream",
     "text": [
      "Accuracy: 0.8652694610778443\n"
     ]
    }
   ],
   "source": [
    "\n",
    "# Step 11: Print the accuracy\n",
    "print(\"Accuracy:\", accuracy)"
   ]
  },
  {
   "cell_type": "markdown",
   "id": "6e0a0b7b",
   "metadata": {},
   "source": [
    "# SVM\n"
   ]
  },
  {
   "cell_type": "code",
   "execution_count": 42,
   "id": "ab16b067",
   "metadata": {},
   "outputs": [],
   "source": [
    "# Step 10: Model building - SVM:\n",
    "\n",
    "# Create an SVM model\n",
    "svm = SVC()\n"
   ]
  },
  {
   "cell_type": "code",
   "execution_count": 43,
   "id": "6bcb0e15",
   "metadata": {},
   "outputs": [
    {
     "data": {
      "text/plain": [
       "SVC()"
      ]
     },
     "execution_count": 43,
     "metadata": {},
     "output_type": "execute_result"
    }
   ],
   "source": [
    "# Train the model\n",
    "svm.fit(X_train, y_train_binary)"
   ]
  },
  {
   "cell_type": "code",
   "execution_count": 44,
   "id": "8c499769",
   "metadata": {},
   "outputs": [],
   "source": [
    "# Predict on the test set\n",
    "y_pred_svm = svm.predict(X_test)"
   ]
  },
  {
   "cell_type": "code",
   "execution_count": 45,
   "id": "a150ed55",
   "metadata": {},
   "outputs": [],
   "source": [
    "# Create binary predictions based on a threshold\n",
    "threshold = 0.5\n",
    "y_test_binary = np.where(y_test > threshold, 1, 0)\n",
    "y_pred_binary_svm = np.where(y_pred_svm > threshold, 1, 0)\n"
   ]
  },
  {
   "cell_type": "code",
   "execution_count": 46,
   "id": "e756f170",
   "metadata": {},
   "outputs": [
    {
     "name": "stdout",
     "output_type": "stream",
     "text": [
      "SVM Accuracy: 0.8592814371257484\n"
     ]
    }
   ],
   "source": [
    "# Evaluate the model\n",
    "accuracy_svm = accuracy_score(y_test_binary, y_pred_binary_svm)\n",
    "print(\"SVM Accuracy:\", accuracy_svm)"
   ]
  },
  {
   "cell_type": "code",
   "execution_count": null,
   "id": "5082d1fc",
   "metadata": {},
   "outputs": [],
   "source": []
  },
  {
   "cell_type": "markdown",
   "id": "f47ee9aa",
   "metadata": {},
   "source": [
    "# Naive Byes"
   ]
  },
  {
   "cell_type": "code",
   "execution_count": 47,
   "id": "801a7fd4",
   "metadata": {},
   "outputs": [],
   "source": [
    "# Create a Naive Bayes model\n",
    "nb = GaussianNB()\n"
   ]
  },
  {
   "cell_type": "code",
   "execution_count": 48,
   "id": "6ac68494",
   "metadata": {},
   "outputs": [],
   "source": [
    " # Define the threshold for class separation:\n",
    "\n",
    "threshold = 5.0  \n",
    "y_train_labels = np.where(y_train > threshold, 1, 0)"
   ]
  },
  {
   "cell_type": "code",
   "execution_count": 49,
   "id": "59c444b1",
   "metadata": {},
   "outputs": [
    {
     "data": {
      "text/plain": [
       "GaussianNB()"
      ]
     },
     "execution_count": 49,
     "metadata": {},
     "output_type": "execute_result"
    }
   ],
   "source": [
    "# Train the model\n",
    "\n",
    "nb.fit(X_train, y_train_labels) \n"
   ]
  },
  {
   "cell_type": "code",
   "execution_count": 50,
   "id": "79ef88a9",
   "metadata": {},
   "outputs": [],
   "source": [
    "# Predict on the test set\n",
    "y_pred_nb = nb.predict(X_test)\n"
   ]
  },
  {
   "cell_type": "code",
   "execution_count": 51,
   "id": "88d7db5c",
   "metadata": {},
   "outputs": [
    {
     "name": "stdout",
     "output_type": "stream",
     "text": [
      "Naive Bayes Accuracy: 0.5179640718562875\n"
     ]
    }
   ],
   "source": [
    "# Evaluate the model\n",
    "\n",
    "accuracy_nb = accuracy_score(y_test_binary, y_pred_nb)\n",
    "print(\"Naive Bayes Accuracy:\", accuracy_nb)"
   ]
  },
  {
   "cell_type": "code",
   "execution_count": null,
   "id": "04cfe5ec",
   "metadata": {},
   "outputs": [],
   "source": []
  },
  {
   "cell_type": "markdown",
   "id": "2c47e4d6",
   "metadata": {},
   "source": [
    "# Roc curve"
   ]
  },
  {
   "cell_type": "code",
   "execution_count": 52,
   "id": "7b69e32c",
   "metadata": {},
   "outputs": [],
   "source": [
    "# Step 11: Model evaluation - ROC curves\n",
    "\n",
    "threshold = 0.5  # Define the threshold for binary classification\n",
    "y_pred_logreg_binary = (y_pred_logreg > threshold).astype(int)\n",
    "y_pred_svm_binary = (y_pred_svm > threshold).astype(int)\n",
    "y_pred_nb_binary = (y_pred_nb > threshold).astype(int)\n"
   ]
  },
  {
   "cell_type": "code",
   "execution_count": 53,
   "id": "56c46dc9",
   "metadata": {
    "scrolled": true
   },
   "outputs": [],
   "source": [
    "# Calculate ROC curves\n",
    "fpr_logreg, tpr_logreg, _ = roc_curve(y_test_binary, y_pred_logreg_binary)\n",
    "fpr_svm, tpr_svm, _ = roc_curve(y_test_binary, y_pred_svm_binary)\n",
    "fpr_nb, tpr_nb, _ = roc_curve(y_test_binary, y_pred_nb_binary)"
   ]
  },
  {
   "cell_type": "code",
   "execution_count": 54,
   "id": "71594111",
   "metadata": {},
   "outputs": [
    {
     "data": {
      "image/png": "[encoded data removed]",
      "text/plain": [
       "<Figure size 800x600 with 1 Axes>"
      ]
     },
     "metadata": {},
     "output_type": "display_data"
    }
   ],
   "source": [
    "plt.figure(figsize=(8, 6))\n",
    "plt.plot(fpr_logreg, tpr_logreg, label='Logistic Regression')\n",
    "plt.plot(fpr_svm, tpr_svm, label='SVM')\n",
    "plt.plot(fpr_nb, tpr_nb, label='Naive Bayes')\n",
    "plt.plot([0, 1], [0, 1], 'k--')\n",
    "plt.xlabel('False Positive Rate')\n",
    "plt.ylabel('True Positive Rate')\n",
    "plt.title('ROC Curves')\n",
    "plt.legend()\n",
    "plt.show()"
   ]
  },
  {
   "cell_type": "markdown",
   "id": "f23225ed",
   "metadata": {},
   "source": [
    "# ROC AUC Scores"
   ]
  },
  {
   "cell_type": "code",
   "execution_count": 55,
   "id": "256193bb",
   "metadata": {},
   "outputs": [],
   "source": [
    "# Step 16: Model evaluation - ROC AUC scores\n",
    "\n",
    "threshold = 0.5\n",
    "y_test_binary = (y_test > threshold).astype(int)\n",
    "\n",
    "\n",
    "roc_auc_logreg = roc_auc_score(y_test_binary, y_pred_logreg)\n",
    "roc_auc_svm = roc_auc_score(y_test_binary, y_pred_svm)\n",
    "roc_auc_nb = roc_auc_score(y_test_binary, y_pred_nb)"
   ]
  },
  {
   "cell_type": "code",
   "execution_count": 56,
   "id": "87de02c0",
   "metadata": {},
   "outputs": [
    {
     "data": {
      "image/png": "[encoded data removed]",
      "text/plain": [
       "<Figure size 800x600 with 1 Axes>"
      ]
     },
     "metadata": {},
     "output_type": "display_data"
    }
   ],
   "source": [
    "plt.figure(figsize=(8, 6))\n",
    "plt.plot([0, 1], [0, 1], 'k--')\n",
    "plt.plot(fpr_logreg, tpr_logreg, label='Logistic Regression (AUC = %0.2f)' % roc_auc_logreg)\n",
    "plt.plot(fpr_svm, tpr_svm, label='SVM (AUC = %0.2f)' % roc_auc_svm)\n",
    "plt.plot(fpr_nb, tpr_nb, label='Naive Bayes (AUC = %0.2f)' % roc_auc_nb)\n",
    "plt.xlabel('False Positive Rate')\n",
    "plt.ylabel('True Positive Rate')\n",
    "plt.title('ROC AUC Curve')\n",
    "plt.legend(loc='lower right')\n",
    "plt.show()"
   ]
  },
  {
   "cell_type": "code",
   "execution_count": null,
   "id": "99e19344",
   "metadata": {},
   "outputs": [],
   "source": []
  },
  {
   "cell_type": "markdown",
   "id": "cb66d1c8",
   "metadata": {},
   "source": [
    "# Precision scores"
   ]
  },
  {
   "cell_type": "code",
   "execution_count": 57,
   "id": "d3c9da4f",
   "metadata": {},
   "outputs": [],
   "source": [
    "# Step 17: Model evaluation - Precision scores\n",
    "y_test_binary = (y_test > threshold).astype(int)  # Convert to binary format\n",
    "precision_logreg = precision_score(y_test_binary, y_pred_logreg, average='weighted')\n",
    "precision_svm = precision_score(y_test_binary, y_pred_svm, average='weighted')\n",
    "precision_nb = precision_score(y_test_binary, y_pred_nb, average='weighted')\n"
   ]
  },
  {
   "cell_type": "code",
   "execution_count": 58,
   "id": "1440792b",
   "metadata": {},
   "outputs": [
    {
     "data": {
      "image/png": "[encoded data removed]",
      "text/plain": [
       "<Figure size 800x600 with 1 Axes>"
      ]
     },
     "metadata": {},
     "output_type": "display_data"
    }
   ],
   "source": [
    "precision_scores = [precision_logreg, precision_svm, precision_nb]\n",
    "models = ['Logistic Regression', 'SVM', 'Naive Bayes']\n",
    "\n",
    "plt.figure(figsize=(8, 6))\n",
    "plt.bar(models, precision_scores)\n",
    "plt.xlabel('Model')\n",
    "plt.ylabel('Precision Score')\n",
    "plt.title('Precision Scores of Different Models')\n",
    "plt.show()"
   ]
  },
  {
   "cell_type": "markdown",
   "id": "f2555fac",
   "metadata": {},
   "source": [
    "# Recall Scores"
   ]
  },
  {
   "cell_type": "code",
   "execution_count": 59,
   "id": "d29ffb00",
   "metadata": {},
   "outputs": [],
   "source": [
    "# Step 18: Model evaluation - Recall scores:\n",
    "\n",
    "y_test_binary = (y_test > threshold).astype(int)  # Convert to binary format\n",
    "recall_logreg = recall_score(y_test_binary, y_pred_logreg, average='weighted')\n",
    "recall_svm = recall_score(y_test_binary, y_pred_svm, average='weighted')\n",
    "recall_nb = recall_score(y_test_binary, y_pred_nb, average='weighted')"
   ]
  },
  {
   "cell_type": "code",
   "execution_count": 60,
   "id": "c8918047",
   "metadata": {},
   "outputs": [
    {
     "data": {
      "image/png": "[encoded data removed]",
      "text/plain": [
       "<Figure size 640x480 with 1 Axes>"
      ]
     },
     "metadata": {},
     "output_type": "display_data"
    }
   ],
   "source": [
    "recall_scores = [recall_logreg, recall_svm, recall_nb]\n",
    "models = ['Logistic Regression', 'SVM', 'Naive Bayes']\n",
    "\n",
    "# Plot recall scores\n",
    "plt.bar(models, recall_scores)\n",
    "plt.xlabel('Models')\n",
    "plt.ylabel('Recall')\n",
    "plt.title('Recall Scores for Sentiment Analysis Models')\n",
    "plt.show()"
   ]
  },
  {
   "cell_type": "markdown",
   "id": "da34cfc4",
   "metadata": {},
   "source": [
    "Precession and recall trade off:"
   ]
  },
  {
   "cell_type": "code",
   "execution_count": 61,
   "id": "158180a9",
   "metadata": {},
   "outputs": [],
   "source": [
    "# Calculate precision and recall values for different thresholds\n",
    "thresholds = np.arange(0, 1.1, 0.1)\n",
    "precision_values = []\n",
    "recall_values = []\n",
    "\n",
    "for threshold in thresholds:\n",
    "    y_pred_binary = (y_pred_logreg > threshold).astype(int)\n",
    "    precision = precision_score(y_test_binary, y_pred_binary)\n",
    "    recall = recall_score(y_test_binary, y_pred_binary)\n",
    "    precision_values.append(precision)\n",
    "    recall_values.append(recall)\n"
   ]
  },
  {
   "cell_type": "code",
   "execution_count": 62,
   "id": "28de36c5",
   "metadata": {},
   "outputs": [
    {
     "data": {
      "image/png": "[encoded data removed]",
      "text/plain": [
       "<Figure size 800x600 with 1 Axes>"
      ]
     },
     "metadata": {},
     "output_type": "display_data"
    }
   ],
   "source": [
    "# Plot precision and recall values\n",
    "plt.figure(figsize=(8, 6))\n",
    "plt.plot(thresholds, precision_values, label='Precision')\n",
    "plt.plot(thresholds, recall_values, label='Recall')\n",
    "plt.xlabel('Threshold')\n",
    "plt.ylabel('Score')\n",
    "plt.title('Precision and Recall Tradeoff')\n",
    "plt.legend()\n",
    "plt.grid(True)\n",
    "plt.show()"
   ]
  },
  {
   "cell_type": "markdown",
   "id": "76db6275",
   "metadata": {},
   "source": [
    "# Model Evaluation Matrics"
   ]
  },
  {
   "cell_type": "code",
   "execution_count": 63,
   "id": "c7078fed",
   "metadata": {},
   "outputs": [
    {
     "name": "stdout",
     "output_type": "stream",
     "text": [
      "Logistic Regression:\n",
      "ROC AUC Score: 0.5090814737934614\n",
      "Precision: 0.7715747991197094\n",
      "Recall: 0.844311377245509\n",
      "\n",
      "SVM:\n",
      "ROC AUC Score: 0.5\n",
      "Precision: 0.7383645881888916\n",
      "Recall: 0.8592814371257484\n",
      "\n",
      "Naive Bayes:\n",
      "ROC AUC Score: 0.56827785603084\n",
      "Precision: 0.7922446056163537\n",
      "Recall: 0.5179640718562875\n"
     ]
    }
   ],
   "source": [
    "# Step 19: Print model evaluation metrics\n",
    "print(\"Logistic Regression:\")\n",
    "print(\"ROC AUC Score:\", roc_auc_logreg)\n",
    "print(\"Precision:\", precision_logreg)\n",
    "print(\"Recall:\", recall_logreg)\n",
    "print(\"\\nSVM:\")\n",
    "print(\"ROC AUC Score:\", roc_auc_svm)\n",
    "print(\"Precision:\", precision_svm)\n",
    "print(\"Recall:\", recall_svm)\n",
    "print(\"\\nNaive Bayes:\")\n",
    "print(\"ROC AUC Score:\", roc_auc_nb)\n",
    "print(\"Precision:\", precision_nb)\n",
    "print(\"Recall:\", recall_nb)"
   ]
  },
  {
   "cell_type": "code",
   "execution_count": 64,
   "id": "623368c1",
   "metadata": {
    "scrolled": true
   },
   "outputs": [],
   "source": [
    "algorithm1_scores = [roc_auc_logreg, precision_logreg, recall_logreg]\n",
    "algorithm2_scores = [roc_auc_svm, precision_svm, recall_svm]\n",
    "algorithm3_scores = [roc_auc_nb, precision_nb, recall_nb]"
   ]
  },
  {
   "cell_type": "code",
   "execution_count": 65,
   "id": "825735c8",
   "metadata": {},
   "outputs": [],
   "source": [
    "f_statistic, p_value = f_oneway(algorithm1_scores, algorithm2_scores, algorithm3_scores)"
   ]
  },
  {
   "cell_type": "code",
   "execution_count": 66,
   "id": "ee5f3065",
   "metadata": {},
   "outputs": [
    {
     "name": "stdout",
     "output_type": "stream",
     "text": [
      "p-value: 0.8142617831735326\n"
     ]
    }
   ],
   "source": [
    "print(\"p-value:\", p_value)"
   ]
  },
  {
   "cell_type": "markdown",
   "id": "c5a2ef65",
   "metadata": {},
   "source": [
    "# On the basis of the model evaluation results, the following conclusions can be drawn:\n",
    "\n",
    "Logistic regression:\n",
    "\n",
    "The ROC AUC value is 0.509, indicating inadequate discrimination between positive and negative emotions. The model accurately anticipates a large proportion of positive emotions with a precision of 0.772. The model captures the majority of positive emotions with a recall score of 0.84.\n",
    "\n",
    "SVM:\n",
    "\n",
    "The ROC AUC is 0.5, indicating arbitrary efficacy in differentiating between positive and negative thoughts. Positive emotions can be predicted with a degree of accuracy of 0.738. The model captures the majority of positive emotions with a recall score of 0.859.\n",
    "\n",
    "Naive Bayes:\n",
    "\n",
    "The ROC AUC value of 0.568 indicates superior discrimination between positive and negative sentiments compared to other models. Positive emotions can be accurately foretold (0.792). With a recall score of 0.518, the model captures a substantial quantity of positive emotions.\n",
    "\n",
    "In terms of discrimination and accuracy, Naive Bayes outperforms both Logistic Regression and SVM. Its low memory score suggests that it may disregard excellent ideas. Consider the requirements and priorities of the mission when selecting a sentiment analysis model.\n",
    "\n",
    "The example dataset and evaluation metrics determine these results. The code and interpretation must correspond with the dataset, issue, and evaluation criteria. In an ANOVA, these methods performed similarly. The p-value of 0.8143 indicates that there is no demonstrably superior sentiment analysis system for IMDb movie ratings.\n",
    "\n",
    "These findings are exclusive to the dataset and methodology of this investigation. Additional information and algorithm testing may be required to reach a conclusion.\n",
    " \n",
    " \n",
    " \n",
    " \n",
    " \n",
    " "
   ]
  },
  {
   "cell_type": "code",
   "execution_count": null,
   "id": "b68c1abd",
   "metadata": {},
   "outputs": [],
   "source": []
  }
 ],
 "metadata": {
  "kernelspec": {
   "display_name": "Python 3 (ipykernel)",
   "language": "python",
   "name": "python3"
  },
  "language_info": {
   "codemirror_mode": {
    "name": "ipython",
    "version": 3
   },
   "file_extension": ".py",
   "mimetype": "text/x-python",
   "name": "python",
   "nbconvert_exporter": "python",
   "pygments_lexer": "ipython3",
   "version": "3.9.13"
  }
 },
 "nbformat": 4,
 "nbformat_minor": 5
}
